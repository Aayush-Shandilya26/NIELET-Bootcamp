{
  "nbformat": 4,
  "nbformat_minor": 0,
  "metadata": {
    "colab": {
      "provenance": [],
      "authorship_tag": "ABX9TyPe4at45IGQc5Cg01Dj7keh",
      "include_colab_link": true
    },
    "kernelspec": {
      "name": "python3",
      "display_name": "Python 3"
    },
    "language_info": {
      "name": "python"
    }
  },
  "cells": [
    {
      "cell_type": "markdown",
      "metadata": {
        "id": "view-in-github",
        "colab_type": "text"
      },
      "source": [
        "<a href=\"https://colab.research.google.com/github/Aayush-Shandilya26/NIELET-Bootcamp/blob/main/NIELET.ipynb\" target=\"_parent\"><img src=\"https://colab.research.google.com/assets/colab-badge.svg\" alt=\"Open In Colab\"/></a>"
      ]
    },
    {
      "cell_type": "code",
      "execution_count": 1,
      "metadata": {
        "colab": {
          "base_uri": "https://localhost:8080/"
        },
        "id": "eAhMvK9svVlo",
        "outputId": "0c4c2cfa-0ddd-42cf-dd4d-9a8bd8a53c46"
      },
      "outputs": [
        {
          "output_type": "stream",
          "name": "stdout",
          "text": [
            "Hello World!\n"
          ]
        }
      ],
      "source": [
        "print(\"Hello World!\")"
      ]
    },
    {
      "cell_type": "code",
      "source": [
        "a = input(\"Enter First Number\")\n",
        "b = input(\"Enter Second Number\")\n",
        "c = int(a) + int(b)\n",
        "print(\"Your answer is\", c)"
      ],
      "metadata": {
        "colab": {
          "base_uri": "https://localhost:8080/"
        },
        "id": "gv12d7xMvpRG",
        "outputId": "68c15dc0-f1ae-46a1-96a0-fb7d6ea37f2d"
      },
      "execution_count": 10,
      "outputs": [
        {
          "output_type": "stream",
          "name": "stdout",
          "text": [
            "Enter First Number2\n",
            "Enter Second Number3\n",
            "Your answer is 5\n"
          ]
        }
      ]
    },
    {
      "cell_type": "code",
      "source": [
        "a = input(\"Enter First Number\") #receiving first input from the user\n",
        "b = input(\"Enter Second Number\")  #receiving second input from the user\n",
        "c = int(a) * int(b) #multipling variable a and b in another variable\n",
        "print(\"Your answer is\", c)"
      ],
      "metadata": {
        "colab": {
          "base_uri": "https://localhost:8080/"
        },
        "id": "dUeQaYKDxwHD",
        "outputId": "8e51c0cf-f754-4fa9-ac91-4324e98232a2"
      },
      "execution_count": 11,
      "outputs": [
        {
          "output_type": "stream",
          "name": "stdout",
          "text": [
            "Enter First Number3\n",
            "Enter Second Number3\n",
            "Your answer is 9\n"
          ]
        }
      ]
    }
  ]
}