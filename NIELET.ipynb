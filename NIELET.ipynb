{
  "nbformat": 4,
  "nbformat_minor": 0,
  "metadata": {
    "colab": {
      "provenance": [],
      "authorship_tag": "ABX9TyPe4at45IGQc5Cg01Dj7keh",
      "include_colab_link": true
    },
    "kernelspec": {
      "name": "python3",
      "display_name": "Python 3"
    },
    "language_info": {
      "name": "python"
    }
  },
  "cells": [
    {
      "cell_type": "markdown",
      "metadata": {
        "id": "view-in-github",
        "colab_type": "text"
      },
      "source": [
        "<a href=\"https://colab.research.google.com/github/Aayush-Shandilya26/NIELET-Bootcamp/blob/main/NIELET.ipynb\" target=\"_parent\"><img src=\"https://colab.research.google.com/assets/colab-badge.svg\" alt=\"Open In Colab\"/></a>"
      ]
    },
    {
      "cell_type": "code",
      "execution_count": null,
      "metadata": {
        "id": "eAhMvK9svVlo"
      },
      "outputs": [],
      "source": [
        "print(\"Hello World!\")"
      ]
    },
    {
      "cell_type": "code",
      "source": [
        "a = input(\"Enter First Number\")\n",
        "b = input(\"Enter Second Number\")\n",
        "c = int(a) + int(b)\n",
        "print(\"Your answer is\", c)"
      ],
      "metadata": {
        "id": "gv12d7xMvpRG"
      },
      "execution_count": null,
      "outputs": []
    },
    {
      "cell_type": "code",
      "source": [
        "a = input(\"Enter First Number\") #receiving first input from the user\n",
        "b = input(\"Enter Second Number\")  #receiving second input from the user\n",
        "c = int(a) * int(b) #multipling variable a and b in another variable\n",
        "print(\"Your answer is\", c)"
      ],
      "metadata": {
        "id": "dUeQaYKDxwHD"
      },
      "execution_count": null,
      "outputs": []
    }
  ]
}