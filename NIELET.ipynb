{
  "nbformat": 4,
  "nbformat_minor": 0,
  "metadata": {
    "colab": {
      "provenance": [],
      "authorship_tag": "ABX9TyOJ24Do12Nd4dYnb/74s3zj",
      "include_colab_link": true
    },
    "kernelspec": {
      "name": "python3",
      "display_name": "Python 3"
    },
    "language_info": {
      "name": "python"
    }
  },
  "cells": [
    {
      "cell_type": "markdown",
      "metadata": {
        "id": "view-in-github",
        "colab_type": "text"
      },
      "source": [
        "<a href=\"https://colab.research.google.com/github/Aayush-Shandilya26/NIELET-Bootcamp/blob/main/NIELET.ipynb\" target=\"_parent\"><img src=\"https://colab.research.google.com/assets/colab-badge.svg\" alt=\"Open In Colab\"/></a>"
      ]
    },
    {
      "cell_type": "code",
      "execution_count": 2,
      "metadata": {
        "id": "eAhMvK9svVlo",
        "colab": {
          "base_uri": "https://localhost:8080/"
        },
        "outputId": "6835a05b-0079-47de-a441-bbc139abc99f"
      },
      "outputs": [
        {
          "output_type": "stream",
          "name": "stdout",
          "text": [
            "Hello World!\n"
          ]
        }
      ],
      "source": [
        "print(\"Hello World!\")"
      ]
    },
    {
      "cell_type": "code",
      "source": [
        "a = input(\"Enter First Number\")\n",
        "print(\"You entered first no\", a)\n",
        "b = input(\"Enter Second Number\")\n",
        "print(\"You entered second no\", b)\n",
        "c = int(a) + int(b)\n",
        "print(\"Your answer is\", c)"
      ],
      "metadata": {
        "id": "gv12d7xMvpRG",
        "colab": {
          "base_uri": "https://localhost:8080/"
        },
        "outputId": "86a24438-e486-4f73-8a53-4da759eccc70"
      },
      "execution_count": 1,
      "outputs": [
        {
          "output_type": "stream",
          "name": "stdout",
          "text": [
            "Enter First Number5\n",
            "You entered first no 5\n",
            "Enter Second Number7\n",
            "You entered second no 7\n",
            "Your answer is 12\n"
          ]
        }
      ]
    },
    {
      "cell_type": "code",
      "source": [
        "a = input(\"Enter First Number\") #receiving first input from the user\n",
        "print(\"You entered first no\", a)\n",
        "b = input(\"Enter Second Number\")  #receiving second input from the user\n",
        "print(\"You entered second no\", a)\n",
        "c = int(a) * int(b) #multipling variable a and b in another variable\n",
        "print(\"Your answer is\", c)"
      ],
      "metadata": {
        "id": "dUeQaYKDxwHD",
        "colab": {
          "base_uri": "https://localhost:8080/"
        },
        "outputId": "4831c1ed-6261-42ba-d89d-a606d378481e"
      },
      "execution_count": 3,
      "outputs": [
        {
          "output_type": "stream",
          "name": "stdout",
          "text": [
            "Enter First Number9\n",
            "You entered first no 9\n",
            "Enter Second Number4\n",
            "You entered second no 9\n",
            "Your answer is 36\n"
          ]
        }
      ]
    }
  ]
}